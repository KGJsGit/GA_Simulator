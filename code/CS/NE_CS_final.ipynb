{
 "cells": [
  {
   "cell_type": "code",
   "execution_count": 75,
   "metadata": {},
   "outputs": [],
   "source": [
    "import numpy as np\n",
    "import torch\n",
    "import matplotlib.pyplot as plt\n",
    "\n",
    "import math\n",
    "import random\n",
    "\n",
    "from torch.autograd import Variable\n",
    "\n",
    "from sklearn.datasets import load_iris\n",
    "from sklearn.model_selection import train_test_split\n",
    "from sklearn.preprocessing import StandardScaler"
   ]
  },
  {
   "cell_type": "code",
   "execution_count": 76,
   "metadata": {},
   "outputs": [],
   "source": [
    "in_dim, hid1_dim, hid2_dim, out_dim = 4, 8, 9, 3"
   ]
  },
  {
   "cell_type": "code",
   "execution_count": 77,
   "metadata": {},
   "outputs": [],
   "source": [
    "iris = load_iris()\n",
    "X = iris['data']\n",
    "y = iris['target']\n",
    "names = iris['target_names']\n",
    "feature_names = iris['feature_names']\n",
    "\n",
    "# Scale data to have mean 0 and variance 1 \n",
    "# which is importance for convergence of the neural network\n",
    "scaler = StandardScaler()\n",
    "X_scaled = scaler.fit_transform(X)\n",
    "\n",
    "# Split the data set into training and testing\n",
    "X_train, X_test, y_train, y_test = train_test_split(\n",
    "    X_scaled, y, test_size=0.2, random_state=2)\n",
    "\n",
    "X_train = Variable(torch.from_numpy(X_train)).float()\n",
    "y_train = Variable(torch.from_numpy(y_train)).long()\n",
    "X_test  = Variable(torch.from_numpy(X_test)).float()\n",
    "y_test  = Variable(torch.from_numpy(y_test)).long()"
   ]
  },
  {
   "cell_type": "code",
   "execution_count": 78,
   "metadata": {},
   "outputs": [],
   "source": [
    "# 가중치를 저장하기 위한 무작위 값을 갖는 Tensor 생성, requires_grad 옵션은 변화도를 계산할 필요가 있음을 알림\n",
    "# w1, w2, w3 = torch.randn(in_dim, hid1_dim, requires_grad=False), torch.randn(hid1_dim, hid2_dim, requires_grad=False), torch.randn(hid2_dim, out_dim, requires_grad=False)"
   ]
  },
  {
   "cell_type": "code",
   "execution_count": 79,
   "metadata": {},
   "outputs": [],
   "source": [
    "EPOCHS = 500\n",
    "loss_list     = np.zeros((EPOCHS,))\n",
    "accuracy_list = np.zeros((EPOCHS,))\n",
    "act_func_relu = torch.nn.ReLU()\n",
    "act_func_cel = torch.nn.CrossEntropyLoss()\n",
    "loss_func = torch.nn.CrossEntropyLoss()"
   ]
  },
  {
   "cell_type": "code",
   "execution_count": 80,
   "metadata": {},
   "outputs": [],
   "source": [
    "def get_fitness(X_train, y_train, w1, w2, w3, act_func_relu, act_func_cel, loss_func):\n",
    "    y_pred = X_train.mm(w1)\n",
    "    y_pred = act_func_relu(y_pred)\n",
    "    y_pred = y_pred.mm(w2)\n",
    "    y_pred = act_func_relu(y_pred)\n",
    "    y_pred = y_pred.mm(w3)\n",
    "    loss = loss_func(y_pred, y_train)\n",
    "    \n",
    "    return loss.item()\n",
    "\n",
    "def tester(X_test, y_test, w1, w2, w3, act_func_relu, act_func_cel):\n",
    "    t_y_pred = X_test.mm(w1)\n",
    "    t_y_pred = act_func_relu(t_y_pred)\n",
    "    t_y_pred = t_y_pred.mm(w2)\n",
    "    t_y_pred = act_func_relu(t_y_pred)\n",
    "    t_y_pred = t_y_pred.mm(w3)\n",
    "    \n",
    "    return t_y_pred\n",
    "\n",
    "def get_levy():\n",
    "    levy = round(math.pow(random.uniform(0.00001, 1), -1.0/3.0), 5)\n",
    "    if random.random() < 0.5 :\n",
    "        levy *= -1\n",
    "    \n",
    "    return levy"
   ]
  },
  {
   "cell_type": "code",
   "execution_count": 81,
   "metadata": {},
   "outputs": [],
   "source": [
    "nest_count = 20\n",
    "pa = 0.25\n",
    "pb = 0.5\n",
    "population = []\n",
    "fitness = []\n",
    "for i in range(nest_count):\n",
    "    w1, w2, w3 = torch.randn(in_dim, hid1_dim, requires_grad=False), torch.randn(hid1_dim, hid2_dim, requires_grad=False), torch.randn(hid2_dim, out_dim, requires_grad=False)\n",
    "    loss = get_fitness(X_train, y_train, w1, w2, w3, act_func_relu, act_func_cel, loss_func)\n",
    "    temp = []\n",
    "    temp.append(w1)\n",
    "    temp.append(w2)\n",
    "    temp.append(w3)\n",
    "    population.append(temp)\n",
    "    fitness.append(loss)\n",
    "\n",
    "population = np.array([population, fitness])\n",
    "population = population.T\n",
    "population = population[np.argsort(population[:, 1])]"
   ]
  },
  {
   "cell_type": "code",
   "execution_count": 82,
   "metadata": {},
   "outputs": [],
   "source": [
    "loss_list     = np.zeros((EPOCHS,))\n",
    "accuracy_list = np.zeros((EPOCHS,))"
   ]
  },
  {
   "cell_type": "code",
   "execution_count": 83,
   "metadata": {},
   "outputs": [
    {
     "name": "stdout",
     "output_type": "stream",
     "text": [
      "0 loss : 1.220576524734497  acc : 0.6666666865348816\n",
      "20 loss : 0.5427997708320618  acc : 0.699999988079071\n",
      "40 loss : 0.5427997708320618  acc : 0.699999988079071\n",
      "60 loss : 0.5427997708320618  acc : 0.699999988079071\n",
      "80 loss : 0.5427997708320618  acc : 0.699999988079071\n",
      "100 loss : 0.4653272330760956  acc : 0.7333333492279053\n",
      "120 loss : 0.4653272330760956  acc : 0.7333333492279053\n",
      "140 loss : 0.4653272330760956  acc : 0.7333333492279053\n",
      "160 loss : 0.4653272330760956  acc : 0.7333333492279053\n",
      "180 loss : 0.4653272330760956  acc : 0.7333333492279053\n",
      "200 loss : 0.4653272330760956  acc : 0.7333333492279053\n",
      "220 loss : 0.4653272330760956  acc : 0.7333333492279053\n",
      "240 loss : 0.4653272330760956  acc : 0.7333333492279053\n",
      "260 loss : 0.4653272330760956  acc : 0.7333333492279053\n",
      "280 loss : 0.4653272330760956  acc : 0.7333333492279053\n",
      "300 loss : 0.4653272330760956  acc : 0.7333333492279053\n",
      "320 loss : 0.4653272330760956  acc : 0.7333333492279053\n",
      "340 loss : 0.4653272330760956  acc : 0.7333333492279053\n",
      "360 loss : 0.4653272330760956  acc : 0.7333333492279053\n",
      "380 loss : 0.4653272330760956  acc : 0.7333333492279053\n",
      "400 loss : 0.4653272330760956  acc : 0.7333333492279053\n",
      "420 loss : 0.4653272330760956  acc : 0.7333333492279053\n",
      "440 loss : 0.4653272330760956  acc : 0.7333333492279053\n",
      "460 loss : 0.4653272330760956  acc : 0.7333333492279053\n",
      "480 loss : 0.4653272330760956  acc : 0.7333333492279053\n"
     ]
    }
   ],
   "source": [
    "for epoch in range(EPOCHS) :\n",
    "    # Get a cuckoo randomly by levy\n",
    "    target_nest_index = random.randint(0, nest_count * pb - 1)\n",
    "    target_nest = population[target_nest_index, 0].copy()\n",
    "    levy1, levy2, levy3 = get_levy(), get_levy(), get_levy()\n",
    "    w1 = target_nest[0] + levy1\n",
    "    w2 = target_nest[1] + levy2\n",
    "    w3 = target_nest[2] + levy3\n",
    "    loss = get_fitness(X_train, y_train, w1, w2, w3, act_func_relu, act_func_cel, loss_func)\n",
    "    \n",
    "    # Evaluate and replace\n",
    "    if population[target_nest_index, 1] > loss :\n",
    "        population[target_nest_index, 0] = [w1, w2, w3]\n",
    "        population[target_nest_index, 1] = loss\n",
    "        \n",
    "    # Pa of worse nests are abandoned and new ones built it \n",
    "    for i in range(nest_count - int(pa * nest_count), nest_count) :\n",
    "        w1, w2, w3 = torch.randn(in_dim, hid1_dim, requires_grad=False), torch.randn(hid1_dim, hid2_dim, requires_grad=False), torch.randn(hid2_dim, out_dim, requires_grad=False)\n",
    "        loss = get_fitness(X_train, y_train, w1, w2, w3, act_func_relu, act_func_cel, loss_func)\n",
    "        population[i, 0] = [w1, w2, w3]\n",
    "        population[i, 1] = loss\n",
    "    \n",
    "    # Sort\n",
    "    population = population[np.argsort(population[:, 1])]\n",
    "    \n",
    "    loss_list[epoch] = population[0, 1]\n",
    "    if epoch % 20 == 0:\n",
    "         print(epoch, \"loss :\", population[0, 1], end=\"\")\n",
    "            \n",
    "    w_set = population[0, 0]\n",
    "    valid = tester(X_test, y_test, w_set[0], w_set[1], w_set[2], act_func_relu, act_func_cel)\n",
    "    correct = (torch.argmax(valid, dim=1) == y_test).type(torch.FloatTensor)\n",
    "    accuracy_list[epoch] = correct.mean().item()\n",
    "    if epoch % 20 == 0:\n",
    "         print(' ', \"acc :\", correct.mean().item())"
   ]
  },
  {
   "cell_type": "code",
   "execution_count": 84,
   "metadata": {},
   "outputs": [
    {
     "data": {
      "image/png": "[encoded data removed]",
      "text/plain": [
       "<Figure size 864x432 with 2 Axes>"
      ]
     },
     "metadata": {
      "needs_background": "light"
     },
     "output_type": "display_data"
    }
   ],
   "source": [
    "fig, (ax1, ax2) = plt.subplots(2, figsize=(12, 6), sharex=True)\n",
    "\n",
    "ax1.plot(accuracy_list)\n",
    "ax1.set_ylabel(\"validation accuracy\")\n",
    "ax2.plot(loss_list)\n",
    "ax2.set_ylabel(\"validation loss\")\n",
    "ax2.set_xlabel(\"epochs\");"
   ]
  },
  {
   "cell_type": "code",
   "execution_count": null,
   "metadata": {},
   "outputs": [],
   "source": []
  }
 ],
 "metadata": {
  "kernelspec": {
   "display_name": "PyTorch",
   "language": "python",
   "name": "pytorch"
  },
  "language_info": {
   "codemirror_mode": {
    "name": "ipython",
    "version": 3
   },
   "file_extension": ".py",
   "mimetype": "text/x-python",
   "name": "python",
   "nbconvert_exporter": "python",
   "pygments_lexer": "ipython3",
   "version": "3.7.7"
  }
 },
 "nbformat": 4,
 "nbformat_minor": 4
}
