{
 "cells": [
  {
   "cell_type": "code",
   "execution_count": 2,
   "metadata": {},
   "outputs": [],
   "source": [
    "import numpy as np\n",
    "import torch\n",
    "import matplotlib.pyplot as plt\n",
    "\n",
    "import math\n",
    "import random\n",
    "\n",
    "from torch.autograd import Variable\n",
    "\n",
    "from sklearn.datasets import load_iris\n",
    "from sklearn.model_selection import train_test_split\n",
    "from sklearn.preprocessing import StandardScaler"
   ]
  },
  {
   "cell_type": "code",
   "execution_count": 3,
   "metadata": {},
   "outputs": [],
   "source": [
    "in_dim, hid1_dim, hid2_dim, out_dim = 4, 8, 9, 3"
   ]
  },
  {
   "cell_type": "code",
   "execution_count": 4,
   "metadata": {},
   "outputs": [],
   "source": [
    "iris = load_iris()\n",
    "X = iris['data']\n",
    "y = iris['target']\n",
    "names = iris['target_names']\n",
    "feature_names = iris['feature_names']\n",
    "\n",
    "# Scale data to have mean 0 and variance 1 \n",
    "# which is importance for convergence of the neural network\n",
    "scaler = StandardScaler()\n",
    "X_scaled = scaler.fit_transform(X)\n",
    "\n",
    "# Split the data set into training and testing\n",
    "X_train, X_test, y_train, y_test = train_test_split(\n",
    "    X_scaled, y, test_size=0.2, random_state=2)\n",
    "\n",
    "X_train = Variable(torch.from_numpy(X_train)).float()\n",
    "y_train = Variable(torch.from_numpy(y_train)).long()\n",
    "X_test  = Variable(torch.from_numpy(X_test)).float()\n",
    "y_test  = Variable(torch.from_numpy(y_test)).long()"
   ]
  },
  {
   "cell_type": "code",
   "execution_count": 5,
   "metadata": {},
   "outputs": [],
   "source": [
    "EPOCHS = 500\n",
    "loss_list     = np.zeros((EPOCHS,))\n",
    "accuracy_list = np.zeros((EPOCHS,))\n",
    "act_func_relu = torch.nn.ReLU()\n",
    "act_func_cel = torch.nn.CrossEntropyLoss()\n",
    "loss_func = torch.nn.CrossEntropyLoss()"
   ]
  },
  {
   "cell_type": "code",
   "execution_count": 6,
   "metadata": {},
   "outputs": [],
   "source": [
    "def get_fitness(X_train, y_train, weights, act_func_relu, act_func_cel, loss_func):\n",
    "    w1, w2, w3 = [], [], []\n",
    "    lengths = 0\n",
    "    for i in range(in_dim) :\n",
    "        w1.append(weights[lengths : hid1_dim + lengths])\n",
    "        lengths += hid1_dim\n",
    "    w1 = np.array(w1)\n",
    "    \n",
    "    for i in range(hid1_dim) :\n",
    "        w2.append(weights[lengths : hid2_dim + lengths])\n",
    "        lengths += hid2_dim\n",
    "    w2 = np.array(w2)\n",
    "    \n",
    "    for i in range(hid2_dim) :\n",
    "        w3.append(weights[lengths : out_dim + lengths])\n",
    "        lengths += out_dim\n",
    "    w3 = np.array(w3)\n",
    "\n",
    "    w1, w2, w3 = Variable(torch.from_numpy(w1)).float(), Variable(torch.from_numpy(w2)).float(), Variable(torch.from_numpy(w3)).float()\n",
    "    \n",
    "    y_pred = X_train.mm(w1)\n",
    "    y_pred = act_func_relu(y_pred)\n",
    "    y_pred = y_pred.mm(w2)\n",
    "    y_pred = act_func_relu(y_pred)\n",
    "    y_pred = y_pred.mm(w3)\n",
    "    loss = loss_func(y_pred, y_train)\n",
    "    \n",
    "    return loss.item()\n",
    "\n",
    "def tester(X_test, y_test, weights, act_func_relu, act_func_cel):\n",
    "    w1, w2, w3 = [], [], []\n",
    "    lengths = 0\n",
    "    for i in range(in_dim) :\n",
    "        w1.append(weights[lengths : hid1_dim + lengths])\n",
    "        lengths += hid1_dim\n",
    "    w1 = np.array(w1)\n",
    "    \n",
    "    for i in range(hid1_dim) :\n",
    "        w2.append(weights[lengths : hid2_dim + lengths])\n",
    "        lengths += hid2_dim\n",
    "    w2 = np.array(w2)\n",
    "    \n",
    "    for i in range(hid2_dim) :\n",
    "        w3.append(weights[lengths : out_dim + lengths])\n",
    "        lengths += out_dim\n",
    "    w3 = np.array(w3)\n",
    "\n",
    "    w1, w2, w3 = Variable(torch.from_numpy(w1)).float(), Variable(torch.from_numpy(w2)).float(), Variable(torch.from_numpy(w3)).float()\n",
    "    \n",
    "    t_y_pred = X_test.mm(w1)\n",
    "    t_y_pred = act_func_relu(t_y_pred)\n",
    "    t_y_pred = t_y_pred.mm(w2)\n",
    "    t_y_pred = act_func_relu(t_y_pred)\n",
    "    t_y_pred = t_y_pred.mm(w3)\n",
    "    \n",
    "    return t_y_pred"
   ]
  },
  {
   "cell_type": "code",
   "execution_count": 7,
   "metadata": {},
   "outputs": [],
   "source": [
    "swarm_no = 20\n",
    "lb, ub, dim = -10, 10, in_dim * hid1_dim + hid1_dim * hid2_dim + hid2_dim * out_dim"
   ]
  },
  {
   "cell_type": "code",
   "execution_count": 24,
   "metadata": {},
   "outputs": [],
   "source": [
    "population = np.zeros((swarm_no, dim))\n",
    "particle_best_pos = np.zeros((swarm_no, dim))\n",
    "particle_best_sco = np.zeros((swarm_no))\n",
    "swarm_best_pos = np.zeros(dim)\n",
    "swarm_best_sco = float(\"inf\")\n",
    "\n",
    "inertia_w = 1 # inertia constant\n",
    "c1 = 2 # cognitive constant\n",
    "c2 = 2 # social constant\n",
    "\n",
    "for i in range(swarm_no) :\n",
    "    population[i, :] = (np.random.uniform(lb, ub, dim))\n",
    "    init_fit = get_fitness(X_train, y_train, population[i, :], act_func_relu, act_func_cel, loss_func)\n",
    "    \n",
    "    particle_best_pos[i, :] = population[i, :]\n",
    "    particle_best_sco[i] = fit \n",
    "    \n",
    "    if swarm_best_sco > fit :\n",
    "        swarm_best_pos = population[i, :]\n",
    "        swarm_best_sco = fit"
   ]
  },
  {
   "cell_type": "code",
   "execution_count": 32,
   "metadata": {},
   "outputs": [
    {
     "name": "stdout",
     "output_type": "stream",
     "text": [
      "0 loss : 32.816429138183594  acc : 0.7333333492279053\n",
      "20 loss : 3.3750569820404053  acc : 0.8333333134651184\n",
      "40 loss : 3.272258758544922  acc : 0.8333333134651184\n",
      "60 loss : 3.1513969898223877  acc : 0.8333333134651184\n",
      "80 loss : 2.8040244579315186  acc : 0.8333333134651184\n",
      "100 loss : 2.7954587936401367  acc : 0.8333333134651184\n",
      "120 loss : 2.7954397201538086  acc : 0.8333333134651184\n",
      "140 loss : 2.7948975563049316  acc : 0.8333333134651184\n",
      "160 loss : 2.794895648956299  acc : 0.8333333134651184\n",
      "180 loss : 2.7948949337005615  acc : 0.8333333134651184\n",
      "200 loss : 2.7948944568634033  acc : 0.8333333134651184\n",
      "220 loss : 2.7948944568634033  acc : 0.8333333134651184\n",
      "240 loss : 2.7948944568634033  acc : 0.8333333134651184\n",
      "260 loss : 2.794894218444824  acc : 0.8333333134651184\n",
      "280 loss : 2.794894218444824  acc : 0.8333333134651184\n",
      "300 loss : 2.794894218444824  acc : 0.8333333134651184\n",
      "320 loss : 2.794894218444824  acc : 0.8333333134651184\n",
      "340 loss : 2.794894218444824  acc : 0.8333333134651184\n",
      "360 loss : 2.794894218444824  acc : 0.8333333134651184\n",
      "380 loss : 2.794894218444824  acc : 0.8333333134651184\n",
      "400 loss : 2.794894218444824  acc : 0.8333333134651184\n",
      "420 loss : 2.794894218444824  acc : 0.8333333134651184\n",
      "440 loss : 2.794894218444824  acc : 0.8333333134651184\n",
      "460 loss : 2.794894218444824  acc : 0.8333333134651184\n",
      "480 loss : 2.794894218444824  acc : 0.8333333134651184\n"
     ]
    }
   ],
   "source": [
    "for iter in range(EPOCHS) :\n",
    "    for i in range(swarm_no) :\n",
    "        current_pos = population[i, :]\n",
    "        velocity = current_pos * inertia_w\n",
    "        social_best = swarm_best_pos - current_pos\n",
    "        particle_best = particle_best_pos[i] - current_pos\n",
    "        r1, r2 = round(random.random(), 6), round(random.random(), 6)\n",
    "        \n",
    "        # update particle\n",
    "        result_pos = inertia_w * velocity + c1 * r1 * particle_best + c2 * r2 * social_best\n",
    "        result_fit = get_fitness(X_train, y_train, result_pos, act_func_relu, act_func_cel, loss_func)\n",
    "        \n",
    "        population[i, :] = result_pos\n",
    "        \n",
    "        # update particle_best\n",
    "        if particle_best_sco[i] > result_fit :\n",
    "            particle_best_pos[i] = result_pos\n",
    "            particle_best_sco[i] = result_fit\n",
    "            \n",
    "        # update swarm_best\n",
    "        if swarm_best_sco > result_fit :\n",
    "            swarm_best_pos = result_pos\n",
    "            swarm_best_sco = result_fit\n",
    "    \n",
    "    loss_list[iter] = swarm_best_sco\n",
    "    if iter % 20 == 0:\n",
    "         print(iter, \"loss :\", swarm_best_sco, end=\"\")\n",
    "            \n",
    "    w_set = swarm_best_pos\n",
    "    valid = tester(X_test, y_test, w_set, act_func_relu, act_func_cel)\n",
    "    correct = (torch.argmax(valid, dim=1) == y_test).type(torch.FloatTensor)\n",
    "    accuracy_list[iter] = correct.mean().item()\n",
    "    if iter % 20 == 0:\n",
    "         print(' ', \"acc :\", correct.mean().item())"
   ]
  },
  {
   "cell_type": "code",
   "execution_count": 33,
   "metadata": {},
   "outputs": [
    {
     "data": {
      "image/png": "[encoded data removed]",
      "text/plain": [
       "<Figure size 864x432 with 2 Axes>"
      ]
     },
     "metadata": {
      "needs_background": "light"
     },
     "output_type": "display_data"
    }
   ],
   "source": [
    "fig, (ax1, ax2) = plt.subplots(2, figsize=(12, 6), sharex=True)\n",
    "\n",
    "ax1.plot(accuracy_list)\n",
    "ax1.set_ylabel(\"validation accuracy\")\n",
    "ax2.plot(loss_list)\n",
    "ax2.set_ylabel(\"validation loss\")\n",
    "ax2.set_xlabel(\"epochs\");"
   ]
  },
  {
   "cell_type": "code",
   "execution_count": null,
   "metadata": {},
   "outputs": [],
   "source": []
  }
 ],
 "metadata": {
  "kernelspec": {
   "display_name": "PyTorch",
   "language": "python",
   "name": "pytorch"
  },
  "language_info": {
   "codemirror_mode": {
    "name": "ipython",
    "version": 3
   },
   "file_extension": ".py",
   "mimetype": "text/x-python",
   "name": "python",
   "nbconvert_exporter": "python",
   "pygments_lexer": "ipython3",
   "version": "3.7.7"
  }
 },
 "nbformat": 4,
 "nbformat_minor": 4
}
