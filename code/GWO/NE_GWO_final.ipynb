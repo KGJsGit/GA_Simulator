{
 "cells": [
  {
   "cell_type": "code",
   "execution_count": 98,
   "metadata": {},
   "outputs": [],
   "source": [
    "import numpy as np\n",
    "import torch\n",
    "import matplotlib.pyplot as plt\n",
    "\n",
    "import math\n",
    "import random\n",
    "\n",
    "from torch.autograd import Variable\n",
    "\n",
    "from sklearn.datasets import load_iris\n",
    "from sklearn.model_selection import train_test_split\n",
    "from sklearn.preprocessing import StandardScaler"
   ]
  },
  {
   "cell_type": "code",
   "execution_count": 99,
   "metadata": {},
   "outputs": [],
   "source": [
    "in_dim, hid1_dim, hid2_dim, out_dim = 4, 8, 9, 3"
   ]
  },
  {
   "cell_type": "code",
   "execution_count": 100,
   "metadata": {},
   "outputs": [],
   "source": [
    "iris = load_iris()\n",
    "X = iris['data']\n",
    "y = iris['target']\n",
    "names = iris['target_names']\n",
    "feature_names = iris['feature_names']\n",
    "\n",
    "# Scale data to have mean 0 and variance 1 \n",
    "# which is importance for convergence of the neural network\n",
    "scaler = StandardScaler()\n",
    "X_scaled = scaler.fit_transform(X)\n",
    "\n",
    "# Split the data set into training and testing\n",
    "X_train, X_test, y_train, y_test = train_test_split(\n",
    "    X_scaled, y, test_size=0.2, random_state=2)\n",
    "\n",
    "X_train = Variable(torch.from_numpy(X_train)).float()\n",
    "y_train = Variable(torch.from_numpy(y_train)).long()\n",
    "X_test  = Variable(torch.from_numpy(X_test)).float()\n",
    "y_test  = Variable(torch.from_numpy(y_test)).long()"
   ]
  },
  {
   "cell_type": "code",
   "execution_count": 101,
   "metadata": {},
   "outputs": [],
   "source": [
    "EPOCHS = 500\n",
    "loss_list     = np.zeros((EPOCHS,))\n",
    "accuracy_list = np.zeros((EPOCHS,))\n",
    "act_func_relu = torch.nn.ReLU()\n",
    "act_func_cel = torch.nn.CrossEntropyLoss()\n",
    "loss_func = torch.nn.CrossEntropyLoss()"
   ]
  },
  {
   "cell_type": "code",
   "execution_count": 102,
   "metadata": {},
   "outputs": [],
   "source": [
    "def get_fitness(X_train, y_train, weights, act_func_relu, act_func_cel, loss_func):\n",
    "    w1, w2, w3 = [], [], []\n",
    "    lengths = 0\n",
    "    for i in range(in_dim) :\n",
    "        w1.append(weights[lengths : hid1_dim + lengths])\n",
    "        lengths += hid1_dim\n",
    "    w1 = np.array(w1)\n",
    "    \n",
    "    for i in range(hid1_dim) :\n",
    "        w2.append(weights[lengths : hid2_dim + lengths])\n",
    "        lengths += hid2_dim\n",
    "    w2 = np.array(w2)\n",
    "    \n",
    "    for i in range(hid2_dim) :\n",
    "        w3.append(weights[lengths : out_dim + lengths])\n",
    "        lengths += out_dim\n",
    "    w3 = np.array(w3)\n",
    "\n",
    "    w1, w2, w3 = Variable(torch.from_numpy(w1)).float(), Variable(torch.from_numpy(w2)).float(), Variable(torch.from_numpy(w3)).float()\n",
    "    \n",
    "    y_pred = X_train.mm(w1)\n",
    "    y_pred = act_func_relu(y_pred)\n",
    "    y_pred = y_pred.mm(w2)\n",
    "    y_pred = act_func_relu(y_pred)\n",
    "    y_pred = y_pred.mm(w3)\n",
    "    loss = loss_func(y_pred, y_train)\n",
    "    \n",
    "    return loss.item()\n",
    "\n",
    "def tester(X_test, y_test, weights, act_func_relu, act_func_cel):\n",
    "    w1, w2, w3 = [], [], []\n",
    "    lengths = 0\n",
    "    for i in range(in_dim) :\n",
    "        w1.append(weights[lengths : hid1_dim + lengths])\n",
    "        lengths += hid1_dim\n",
    "    w1 = np.array(w1)\n",
    "    \n",
    "    for i in range(hid1_dim) :\n",
    "        w2.append(weights[lengths : hid2_dim + lengths])\n",
    "        lengths += hid2_dim\n",
    "    w2 = np.array(w2)\n",
    "    \n",
    "    for i in range(hid2_dim) :\n",
    "        w3.append(weights[lengths : out_dim + lengths])\n",
    "        lengths += out_dim\n",
    "    w3 = np.array(w3)\n",
    "\n",
    "    w1, w2, w3 = Variable(torch.from_numpy(w1)).float(), Variable(torch.from_numpy(w2)).float(), Variable(torch.from_numpy(w3)).float()\n",
    "    \n",
    "    t_y_pred = X_test.mm(w1)\n",
    "    t_y_pred = act_func_relu(t_y_pred)\n",
    "    t_y_pred = t_y_pred.mm(w2)\n",
    "    t_y_pred = act_func_relu(t_y_pred)\n",
    "    t_y_pred = t_y_pred.mm(w3)\n",
    "    \n",
    "    return t_y_pred"
   ]
  },
  {
   "cell_type": "code",
   "execution_count": 103,
   "metadata": {},
   "outputs": [],
   "source": [
    "wolf_no = 20\n",
    "lb, ub, dim = -10, 10, in_dim * hid1_dim + hid1_dim * hid2_dim + hid2_dim * out_dim\n",
    "\n",
    "alpha_pos = np.zeros(dim)\n",
    "alpha_score = float(\"inf\")\n",
    "\n",
    "beta_pos = np.zeros(dim)\n",
    "beta_score = float(\"inf\")\n",
    "\n",
    "delta_pos = np.zeros(dim)\n",
    "delta_score = float(\"inf\")"
   ]
  },
  {
   "cell_type": "code",
   "execution_count": 104,
   "metadata": {},
   "outputs": [],
   "source": [
    "population = np.zeros((wolf_no, dim))\n",
    "valid = []\n",
    "for i in range(dim) :\n",
    "    population[:, i] = (np.random.uniform(lb, ub, wolf_no))"
   ]
  },
  {
   "cell_type": "code",
   "execution_count": 105,
   "metadata": {},
   "outputs": [
    {
     "name": "stdout",
     "output_type": "stream",
     "text": [
      "0 loss : 222.1186981201172  acc : 0.5\n",
      "20 loss : 33.708641052246094  acc : 0.800000011920929\n",
      "40 loss : 4.176002025604248  acc : 0.7666666507720947\n",
      "60 loss : 1.1346163749694824  acc : 0.7666666507720947\n",
      "80 loss : 0.6955342888832092  acc : 0.46666666865348816\n",
      "100 loss : 0.4778292775154114  acc : 0.8333333134651184\n",
      "120 loss : 0.4051986634731293  acc : 0.8333333134651184\n",
      "140 loss : 0.4051986634731293  acc : 0.8333333134651184\n",
      "160 loss : 0.4051986634731293  acc : 0.8333333134651184\n",
      "180 loss : 0.4051986634731293  acc : 0.8333333134651184\n",
      "200 loss : 0.3713882565498352  acc : 0.8333333134651184\n",
      "220 loss : 0.33975252509117126  acc : 0.800000011920929\n",
      "240 loss : 0.33566582202911377  acc : 0.800000011920929\n",
      "260 loss : 0.33566582202911377  acc : 0.800000011920929\n",
      "280 loss : 0.33566582202911377  acc : 0.800000011920929\n",
      "300 loss : 0.33566582202911377  acc : 0.800000011920929\n",
      "320 loss : 0.33566582202911377  acc : 0.800000011920929\n",
      "340 loss : 0.33566582202911377  acc : 0.800000011920929\n",
      "360 loss : 0.3135685920715332  acc : 0.800000011920929\n",
      "380 loss : 0.3056069612503052  acc : 0.800000011920929\n",
      "400 loss : 0.30275869369506836  acc : 0.800000011920929\n",
      "420 loss : 0.2619777023792267  acc : 0.800000011920929\n",
      "440 loss : 0.23038816452026367  acc : 0.800000011920929\n",
      "460 loss : 0.2258075624704361  acc : 0.800000011920929\n",
      "480 loss : 0.22341997921466827  acc : 0.800000011920929\n"
     ]
    }
   ],
   "source": [
    "for iter in range(EPOCHS) :\n",
    "    for i in range(wolf_no) :\n",
    "        fitness = get_fitness(X_train, y_train, population[i, :], act_func_relu, act_func_cel, loss_func)\n",
    "        \n",
    "        if fitness < alpha_score:\n",
    "            delta_score = beta_score  # Update delta\n",
    "            delta_pos = beta_pos.copy()\n",
    "            beta_score = alpha_score  # Update beta\n",
    "            beta_pos = alpha_pos.copy()\n",
    "            alpha_score = fitness  # Update alpha\n",
    "            alpha_pos = population[i, :].copy()\n",
    "\n",
    "        if fitness > alpha_score and fitness < beta_score:\n",
    "            delta_score = beta_score  # Update delte\n",
    "            delta_pos = beta_pos.copy()\n",
    "            beta_score = fitness  # Update beta\n",
    "            beta_pos = population[i, :].copy()\n",
    "\n",
    "        if fitness > alpha_score and fitness > beta_score and fitness < delta_score:\n",
    "            delta_score = fitness  # Update delta\n",
    "            delta_pos = population[i, :].copy()\n",
    "            \n",
    "    # a는 선형적으로 감소하는 값으로 2 ~ 0을 가짐\n",
    "    a = 2 - iter * ((2) / EPOCHS)\n",
    "    \n",
    "    for i in range(wolf_no) :\n",
    "        for j in range(dim) :\n",
    "            r1 = random.random()  # r1 is a random number in [0,1]\n",
    "            r2 = random.random()  # r2 is a random number in [0,1]\n",
    "            A1 = 2 * a * r1 - a  # Equation (3.3)\n",
    "            C1 = 2 * r2  # Equation (3.4)\n",
    "            D_alpha = abs(C1 * alpha_pos[j] - population[i, j])  # Equation (3.5)-part 1\n",
    "            X1 = alpha_pos[j] - A1 * D_alpha  # Equation (3.6)-part 1\n",
    "\n",
    "            r1 = random.random()\n",
    "            r2 = random.random()\n",
    "            A2 = 2 * a * r1 - a  # Equation (3.3)\n",
    "            C2 = 2 * r2  # Equation (3.4)\n",
    "            D_beta = abs(C2 * beta_pos[j] - population[i, j])  # Equation (3.5)-part 2\n",
    "            X2 = beta_pos[j] - A2 * D_beta  # Equation (3.6)-part 2\n",
    "\n",
    "            r1 = random.random()\n",
    "            r2 = random.random()\n",
    "            A3 = 2 * a * r1 - a  # Equation (3.3)\n",
    "            C3 = 2 * r2  # Equation (3.4)\n",
    "            D_delta = abs(C3 * delta_pos[j] - population[i, j])  # Equation (3.5)-part 3\n",
    "            X3 = delta_pos[j] - A3 * D_delta  # Equation (3.5)-part 3\n",
    "\n",
    "            population[i, j] = (X1 + X2 + X3) / 3  # Equation (3.7)\n",
    "    \n",
    "    \n",
    "    loss_list[iter] = alpha_score\n",
    "    if iter % 20 == 0:\n",
    "         print(iter, \"loss :\", alpha_score, end=\"\")\n",
    "            \n",
    "            \n",
    "    w_set = alpha_pos\n",
    "    valid = tester(X_test, y_test, w_set, act_func_relu, act_func_cel)\n",
    "    correct = (torch.argmax(valid, dim=1) == y_test).type(torch.FloatTensor)\n",
    "    accuracy_list[iter] = correct.mean().item()\n",
    "    if iter % 20 == 0:\n",
    "         print(' ', \"acc :\", correct.mean().item())"
   ]
  },
  {
   "cell_type": "code",
   "execution_count": 106,
   "metadata": {},
   "outputs": [
    {
     "data": {
      "image/png": "[encoded data removed]",
      "text/plain": [
       "<Figure size 864x432 with 2 Axes>"
      ]
     },
     "metadata": {
      "needs_background": "light"
     },
     "output_type": "display_data"
    }
   ],
   "source": [
    "fig, (ax1, ax2) = plt.subplots(2, figsize=(12, 6), sharex=True)\n",
    "\n",
    "ax1.plot(accuracy_list)\n",
    "ax1.set_ylabel(\"validation accuracy\")\n",
    "ax2.plot(loss_list)\n",
    "ax2.set_ylabel(\"validation loss\")\n",
    "ax2.set_xlabel(\"epochs\");"
   ]
  },
  {
   "cell_type": "code",
   "execution_count": null,
   "metadata": {},
   "outputs": [],
   "source": []
  }
 ],
 "metadata": {
  "kernelspec": {
   "display_name": "PyTorch",
   "language": "python",
   "name": "pytorch"
  },
  "language_info": {
   "codemirror_mode": {
    "name": "ipython",
    "version": 3
   },
   "file_extension": ".py",
   "mimetype": "text/x-python",
   "name": "python",
   "nbconvert_exporter": "python",
   "pygments_lexer": "ipython3",
   "version": "3.7.7"
  }
 },
 "nbformat": 4,
 "nbformat_minor": 4
}
